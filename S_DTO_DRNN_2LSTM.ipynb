{
  "nbformat": 4,
  "nbformat_minor": 0,
  "metadata": {
    "colab": {
      "name": "S_DTO-DRNN_2LSTM.ipynb",
      "provenance": [],
      "collapsed_sections": []
    },
    "kernelspec": {
      "name": "python3",
      "display_name": "Python 3"
    }
  },
  "cells": [
    {
      "cell_type": "markdown",
      "metadata": {
        "id": "bEkflcJ2SocF",
        "colab_type": "text"
      },
      "source": [
        "# **1- Importing necessary packages**"
      ]
    },
    {
      "cell_type": "code",
      "metadata": {
        "id": "o-smKQ_MxexB",
        "colab_type": "code",
        "colab": {
          "base_uri": "https://localhost:8080/",
          "height": 34
        },
        "outputId": "9543d700-56b9-407f-c00e-0fa0b1f86dae"
      },
      "source": [
        "%tensorflow_version 2.x\n",
        "import tensorflow as tf\n",
        "print(tf.version)"
      ],
      "execution_count": null,
      "outputs": [
        {
          "output_type": "stream",
          "text": [
            "<module 'tensorflow._api.v2.version' from '/usr/local/lib/python3.6/dist-packages/tensorflow/_api/v2/version/__init__.py'>\n"
          ],
          "name": "stdout"
        }
      ]
    },
    {
      "cell_type": "code",
      "metadata": {
        "id": "gSQ7NvKY5mvQ",
        "colab_type": "code",
        "colab": {}
      },
      "source": [
        "pip install git+https://github.com/tensorflow/docs"
      ],
      "execution_count": null,
      "outputs": []
    },
    {
      "cell_type": "code",
      "metadata": {
        "id": "Jjwk1MMA7516",
        "colab_type": "code",
        "colab": {}
      },
      "source": [
        "import os\n",
        "import math\n",
        "from tensorflow import keras\n",
        "from tensorflow.keras import layers\n",
        "import numpy as np\n",
        "from tensorflow import keras\n",
        "#from keras.preprocessing.sequence import TimeSeriesGenerator\n",
        "from tensorflow.keras.models import Sequential \n",
        "from tensorflow.keras.layers import Dense, LSTM, Dropout\n",
        "import warnings\n",
        "import matplotlib.pyplot as plt\n",
        "%matplotlib inline\n",
        "from statsmodels.tools.eval_measures import rmse\n",
        "from sklearn.preprocessing import MinMaxScaler\n",
        "warnings.filterwarnings(\"ignore\")\n",
        "#from Ipython.display import clear_output\n",
        "import tensorflow.compat.v2.feature_column as fc\n",
        "from tensorflow.keras.utils import plot_model\n",
        "from tensorflow.keras import regularizers\n",
        "\n",
        "import tensorflow_docs as tfdocs\n",
        "import tensorflow_docs.plots\n",
        "import tensorflow_docs.modeling\n",
        "\n",
        "import pandas as pd"
      ],
      "execution_count": null,
      "outputs": []
    },
    {
      "cell_type": "markdown",
      "metadata": {
        "id": "gEULyLabS5r8",
        "colab_type": "text"
      },
      "source": [
        "# **2- Importing the training set and validation set for electricity or heating demand**"
      ]
    },
    {
      "cell_type": "code",
      "metadata": {
        "id": "7X0VWZgPXadA",
        "colab_type": "code",
        "colab": {
          "resources": {
            "http://localhost:8080/nbextensions/google.colab/files.js": {
              "data": "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",
              "ok": true,
              "headers": [
                [
                  "content-type",
                  "application/javascript"
                ]
              ],
              "status": 200,
              "status_text": ""
            }
          },
          "base_uri": "https://localhost:8080/",
          "height": 174
        },
        "outputId": "bb221f01-4a4c-4578-bfd7-c24c91601b74"
      },
      "source": [
        "from google.colab import files\n",
        "uploaded = files.upload() # u can now upload the datasetst"
      ],
      "execution_count": null,
      "outputs": [
        {
          "output_type": "display_data",
          "data": {
            "text/html": [
              "\n",
              "     <input type=\"file\" id=\"files-5a994df2-87ef-43fd-a15a-4d5982ae5322\" name=\"files[]\" multiple disabled\n",
              "        style=\"border:none\" />\n",
              "     <output id=\"result-5a994df2-87ef-43fd-a15a-4d5982ae5322\">\n",
              "      Upload widget is only available when the cell has been executed in the\n",
              "      current browser session. Please rerun this cell to enable.\n",
              "      </output>\n",
              "      <script src=\"/nbextensions/google.colab/files.js\"></script> "
            ],
            "text/plain": [
              "<IPython.core.display.HTML object>"
            ]
          },
          "metadata": {
            "tags": []
          }
        },
        {
          "output_type": "stream",
          "text": [
            "Saving X_test_electricity.csv to X_test_electricity (2).csv\n",
            "Saving X_train_electricity.csv to X_train_electricity (2).csv\n",
            "Saving Y_test_electricity.csv to Y_test_electricity (2).csv\n",
            "Saving Y_train_electricity.csv to Y_train_electricity (2).csv\n"
          ],
          "name": "stdout"
        }
      ]
    },
    {
      "cell_type": "code",
      "metadata": {
        "id": "gkntJXMEXimB",
        "colab_type": "code",
        "colab": {}
      },
      "source": [
        "import io\n",
        "X_train_electricity=pd.read_csv(io.BytesIO(uploaded[\"X_train_electricity.csv\"]))   # import the training dataset that is preprocessed by the data_prepration pipeline \n",
        "Y_train_electricity=pd.read_csv(io.BytesIO(uploaded[\"X_train_electricity.csv\"])) \n",
        "\n",
        "X_test_electricity=pd.read_csv(io.BytesIO(uploaded[\"X_test_electricity.csv\"]))    # import the test dataset.\n",
        "Y_test_electricity=pd.read_csv(io.BytesIO(uploaded[\"Y_test_electricity.csv\"])) "
      ],
      "execution_count": null,
      "outputs": []
    },
    {
      "cell_type": "markdown",
      "metadata": {
        "id": "jHOr50pPShb-",
        "colab_type": "text"
      },
      "source": [
        "# **3- Creating a function to define mini-batch size and epoch numbers**"
      ]
    },
    {
      "cell_type": "code",
      "metadata": {
        "colab_type": "code",
        "id": "BF0WJhRQN_xe",
        "colab": {}
      },
      "source": [
        "def make_input_fn(data_df, label_df, num_epochs=10, shuffle=True, batch_size=1):\n",
        "  def input_function():  # inner function, this will be returned\n",
        "    ds = tf.data.Dataset.from_tensor_slices((dict(data_df), label_df))  # create tf.data.Dataset object with data and its label\n",
        "    if shuffle:\n",
        "      ds = ds.shuffle(1)  # randomize order of data\n",
        "    ds = ds.batch(batch_size).repeat(num_epochs)  # split dataset into 10 mini-batches, each of size 5600 (70080*0.8/10), and repeat process for number of epochs\n",
        "    return ds  # return a batch of the dataset\n",
        "    print(ds)\n",
        "  return input_function  # return a function object for use\n",
        "\n",
        "Train_input_fn = make_input_fn(X_train_electricity, Y_train_electricity)  # here we will call the input_function that was returned to us to get a dataset object we can feed to the model\n",
        "Eval_input_fn = make_input_fn(X_test_electricity, Y_test_electricity, num_epochs=1, shuffle=False)"
      ],
      "execution_count": null,
      "outputs": []
    },
    {
      "cell_type": "code",
      "metadata": {
        "id": "-K_gdcwGUSq_",
        "colab_type": "code",
        "colab": {
          "base_uri": "https://localhost:8080/",
          "height": 330
        },
        "outputId": "9f987324-6db0-4184-9232-a9ea941e280d"
      },
      "source": [
        "Y_train_electricity"
      ],
      "execution_count": null,
      "outputs": [
        {
          "output_type": "execute_result",
          "data": {
            "text/html": [
              "<div>\n",
              "<style scoped>\n",
              "    .dataframe tbody tr th:only-of-type {\n",
              "        vertical-align: middle;\n",
              "    }\n",
              "\n",
              "    .dataframe tbody tr th {\n",
              "        vertical-align: top;\n",
              "    }\n",
              "\n",
              "    .dataframe thead th {\n",
              "        text-align: right;\n",
              "    }\n",
              "</style>\n",
              "<table border=\"1\" class=\"dataframe\">\n",
              "  <thead>\n",
              "    <tr style=\"text-align: right;\">\n",
              "      <th></th>\n",
              "      <th>air_pressure[mmHg]</th>\n",
              "      <th>air_temperature[degree celcius]</th>\n",
              "      <th>relative_humidity[%]</th>\n",
              "      <th>wind_speed[M/S]</th>\n",
              "      <th>solar_irridiation[W/m²]</th>\n",
              "      <th>total_cloud_cover[from ten]</th>\n",
              "      <th>air_pressure[mmHg].1</th>\n",
              "      <th>air_temperature[degree celcius].1</th>\n",
              "      <th>relative_humidity[%].1</th>\n",
              "      <th>wind_speed[M/S].1</th>\n",
              "      <th>solar_irridiation[W/m²].1</th>\n",
              "      <th>total_cloud_cover[from ten].1</th>\n",
              "    </tr>\n",
              "  </thead>\n",
              "  <tbody>\n",
              "    <tr>\n",
              "      <th>0</th>\n",
              "      <td>729.7</td>\n",
              "      <td>25.0</td>\n",
              "      <td>85</td>\n",
              "      <td>5</td>\n",
              "      <td>248.619540</td>\n",
              "      <td>0.0</td>\n",
              "      <td>729.7</td>\n",
              "      <td>25.0</td>\n",
              "      <td>85</td>\n",
              "      <td>5</td>\n",
              "      <td>248.619540</td>\n",
              "      <td>0.0</td>\n",
              "    </tr>\n",
              "    <tr>\n",
              "      <th>1</th>\n",
              "      <td>729.4</td>\n",
              "      <td>27.8</td>\n",
              "      <td>77</td>\n",
              "      <td>7</td>\n",
              "      <td>305.820682</td>\n",
              "      <td>0.0</td>\n",
              "      <td>729.4</td>\n",
              "      <td>27.8</td>\n",
              "      <td>77</td>\n",
              "      <td>7</td>\n",
              "      <td>305.820682</td>\n",
              "      <td>0.0</td>\n",
              "    </tr>\n",
              "    <tr>\n",
              "      <th>2</th>\n",
              "      <td>728.9</td>\n",
              "      <td>33.3</td>\n",
              "      <td>62</td>\n",
              "      <td>7</td>\n",
              "      <td>423.326086</td>\n",
              "      <td>0.2</td>\n",
              "      <td>728.9</td>\n",
              "      <td>33.3</td>\n",
              "      <td>62</td>\n",
              "      <td>7</td>\n",
              "      <td>423.326086</td>\n",
              "      <td>0.2</td>\n",
              "    </tr>\n",
              "    <tr>\n",
              "      <th>3</th>\n",
              "      <td>731.6</td>\n",
              "      <td>32.2</td>\n",
              "      <td>62</td>\n",
              "      <td>2</td>\n",
              "      <td>12.003100</td>\n",
              "      <td>0.5</td>\n",
              "      <td>731.6</td>\n",
              "      <td>32.2</td>\n",
              "      <td>62</td>\n",
              "      <td>2</td>\n",
              "      <td>12.003100</td>\n",
              "      <td>0.5</td>\n",
              "    </tr>\n",
              "    <tr>\n",
              "      <th>4</th>\n",
              "      <td>732.6</td>\n",
              "      <td>22.8</td>\n",
              "      <td>96</td>\n",
              "      <td>3</td>\n",
              "      <td>285.485510</td>\n",
              "      <td>0.2</td>\n",
              "      <td>732.6</td>\n",
              "      <td>22.8</td>\n",
              "      <td>96</td>\n",
              "      <td>3</td>\n",
              "      <td>285.485510</td>\n",
              "      <td>0.2</td>\n",
              "    </tr>\n",
              "    <tr>\n",
              "      <th>5</th>\n",
              "      <td>732.6</td>\n",
              "      <td>24.4</td>\n",
              "      <td>97</td>\n",
              "      <td>3</td>\n",
              "      <td>196.691056</td>\n",
              "      <td>0.0</td>\n",
              "      <td>732.6</td>\n",
              "      <td>24.4</td>\n",
              "      <td>97</td>\n",
              "      <td>3</td>\n",
              "      <td>196.691056</td>\n",
              "      <td>0.0</td>\n",
              "    </tr>\n",
              "    <tr>\n",
              "      <th>6</th>\n",
              "      <td>731.6</td>\n",
              "      <td>30.0</td>\n",
              "      <td>63</td>\n",
              "      <td>4</td>\n",
              "      <td>900.892417</td>\n",
              "      <td>0.5</td>\n",
              "      <td>731.6</td>\n",
              "      <td>30.0</td>\n",
              "      <td>63</td>\n",
              "      <td>4</td>\n",
              "      <td>900.892417</td>\n",
              "      <td>0.5</td>\n",
              "    </tr>\n",
              "    <tr>\n",
              "      <th>7</th>\n",
              "      <td>734.8</td>\n",
              "      <td>26.1</td>\n",
              "      <td>85</td>\n",
              "      <td>2</td>\n",
              "      <td>684.230535</td>\n",
              "      <td>1.0</td>\n",
              "      <td>734.8</td>\n",
              "      <td>26.1</td>\n",
              "      <td>85</td>\n",
              "      <td>2</td>\n",
              "      <td>684.230535</td>\n",
              "      <td>1.0</td>\n",
              "    </tr>\n",
              "  </tbody>\n",
              "</table>\n",
              "</div>"
            ],
            "text/plain": [
              "   air_pressure[mmHg]  ...  total_cloud_cover[from ten].1\n",
              "0               729.7  ...                            0.0\n",
              "1               729.4  ...                            0.0\n",
              "2               728.9  ...                            0.2\n",
              "3               731.6  ...                            0.5\n",
              "4               732.6  ...                            0.2\n",
              "5               732.6  ...                            0.0\n",
              "6               731.6  ...                            0.5\n",
              "7               734.8  ...                            1.0\n",
              "\n",
              "[8 rows x 12 columns]"
            ]
          },
          "metadata": {
            "tags": []
          },
          "execution_count": 120
        }
      ]
    },
    {
      "cell_type": "markdown",
      "metadata": {
        "id": "Zn4ZYmLakUB3",
        "colab_type": "text"
      },
      "source": [
        "# **4- Creating a function to define feature columns**\n"
      ]
    },
    {
      "cell_type": "code",
      "metadata": {
        "id": "wy9sTVi_kdEF",
        "colab_type": "code",
        "colab": {}
      },
      "source": [
        "# Feature columns describe how to use the input.\n",
        "def my_feature_columns(data_df):\n",
        "  my_feature_columns = []\n",
        "  for key in data_df.keys():\n",
        "      my_feature_columns.append(tf.feature_column.numeric_column(key=key))\n",
        "  print(my_feature_columns)"
      ],
      "execution_count": null,
      "outputs": []
    },
    {
      "cell_type": "markdown",
      "metadata": {
        "id": "ZzCLBCDsYk2j",
        "colab_type": "text"
      },
      "source": [
        "# **5- Creating the model (Construction phase)**"
      ]
    },
    {
      "cell_type": "markdown",
      "metadata": {
        "id": "OrarfsbnV1i2",
        "colab_type": "text"
      },
      "source": [
        "# **S,DTO-DRNN_2LSTM**"
      ]
    },
    {
      "cell_type": "markdown",
      "metadata": {
        "id": "8pHxCroWEmWd",
        "colab_type": "text"
      },
      "source": [
        "**Comments for creating the final model**\n",
        "\n",
        "\n",
        "1.   The initial LSTM layer requires a specification of its input_shape. To correctly specify this, follow this simple rule: take the X_train.shape: (1847, 90, 1), drop the first dimension: (90, 1), there you have the correct input_shape. It's as easy as that.\n",
        "2.  For Deep RNNs, each LSTM() that is not the last requires return_sequences = True. That is because an LSTM layer that is not outputting to Dense() layers must receive a series of data to be processed, so you want other layers to return a sequence of data of a kind similar to your input. \n",
        "*   Dense() layer has the same size of the previous LSTMs output sequence. This intermediate layer fires to the output layer, that has a number of nodes equal to the number of forecast steps. Regression tasks require no activation function at the output layer, since no activation means linear activation.\n",
        "\n",
        "\n",
        "\n",
        "\n",
        "\n",
        "\n",
        "\n"
      ]
    },
    {
      "cell_type": "code",
      "metadata": {
        "id": "65y7Q3u2ttFw",
        "colab_type": "code",
        "colab": {}
      },
      "source": [
        "lstm1 = tf.keras.layers.LSTM(    input_shape=(12,1),units=400, activation='tanh',\n",
        "                                recurrent_activation='sigmoid', use_bias=True, dropout=0.2, return_sequences=True\n",
        "                                                                                   )   "
      ],
      "execution_count": null,
      "outputs": []
    },
    {
      "cell_type": "code",
      "metadata": {
        "id": "NeLGVooRvYpj",
        "colab_type": "code",
        "colab": {}
      },
      "source": [
        "lstm2 = tf.keras.layers.LSTM(    units=400, activation='tanh',\n",
        "                                recurrent_activation='sigmoid', use_bias=True, dropout=0.2, return_sequences=True\n",
        "                                                                                   )   "
      ],
      "execution_count": null,
      "outputs": []
    },
    {
      "cell_type": "code",
      "metadata": {
        "id": "efjlY0jPwjW4",
        "colab_type": "code",
        "colab": {}
      },
      "source": [
        "mlp1 = tf.keras.layers.Dense(15, activation=\"sigmoid\")\n",
        "mlp2 = tf.keras.layers.Dense(15, activation=\"sigmoid\")\n",
        "mlp3 = tf.keras.layers.Dense(1, activation=\"sigmoid\")"
      ],
      "execution_count": null,
      "outputs": []
    },
    {
      "cell_type": "code",
      "metadata": {
        "id": "GnctsOtTQ1-u",
        "colab_type": "code",
        "colab": {}
      },
      "source": [
        "dropout = tf.keras.layers.Dropout(0.2, noise_shape=None) # \n",
        "l2 = tf.keras.regularizers.l2(l=0.01)"
      ],
      "execution_count": null,
      "outputs": []
    },
    {
      "cell_type": "code",
      "metadata": {
        "id": "1GUopKz5PBQN",
        "colab_type": "code",
        "colab": {
          "base_uri": "https://localhost:8080/",
          "height": 901
        },
        "outputId": "8e93c38f-ad52-4c5a-c7b3-2d81e48b0182"
      },
      "source": [
        "inputs = keras.Input(shape=(12,1))\n",
        "x0=lstm1(inputs)    \n",
        "x1 = lstm2(x0)\n",
        "x2 = mlp1(x1)\n",
        "x3=mlp2(x2)\n",
        "x4=mlp3(x3)\n",
        "S_model = keras.Model(inputs=inputs, outputs=x4, name=\"S_DTO-DRNN_2LSTM\")\n",
        "S_model.summary()\n",
        "plot_model(S_model, to_file=\"S_DTO_model_2LSTM.png\")"
      ],
      "execution_count": null,
      "outputs": [
        {
          "output_type": "stream",
          "text": [
            "Model: \"S_DTO-DRNN_2LSTM\"\n",
            "_________________________________________________________________\n",
            "Layer (type)                 Output Shape              Param #   \n",
            "=================================================================\n",
            "input_15 (InputLayer)        [(None, 12, 1)]           0         \n",
            "_________________________________________________________________\n",
            "lstm_19 (LSTM)               (None, 12, 400)           643200    \n",
            "_________________________________________________________________\n",
            "lstm_20 (LSTM)               (None, 12, 400)           1281600   \n",
            "_________________________________________________________________\n",
            "dense_27 (Dense)             (None, 12, 15)            6015      \n",
            "_________________________________________________________________\n",
            "dense_28 (Dense)             (None, 12, 15)            240       \n",
            "_________________________________________________________________\n",
            "dense_29 (Dense)             (None, 12, 1)             16        \n",
            "=================================================================\n",
            "Total params: 1,931,071\n",
            "Trainable params: 1,931,071\n",
            "Non-trainable params: 0\n",
            "_________________________________________________________________\n"
          ],
          "name": "stdout"
        },
        {
          "output_type": "execute_result",
          "data": {
            "image/png": "[encoded data removed]",
            "text/plain": [
              "<IPython.core.display.Image object>"
            ]
          },
          "metadata": {
            "tags": []
          },
          "execution_count": 130
        }
      ]
    },
    {
      "cell_type": "code",
      "metadata": {
        "id": "8Zjh8MrkGuUB",
        "colab_type": "code",
        "colab": {}
      },
      "source": [
        "S_model.compile( optimizer=keras.optimizers.RMSprop(learning_rate=1e-3),\n",
        "                loss=\"mse\",\n",
        "                metrics=[tf.keras.metrics.RootMeanSquaredError()])"
      ],
      "execution_count": null,
      "outputs": []
    },
    {
      "cell_type": "code",
      "metadata": {
        "id": "n4In8UcyAdBs",
        "colab_type": "code",
        "colab": {}
      },
      "source": [
        "Epochs=10\n",
        "history = S_model.fit(X_train_electricity, Y_train_electricity,\n",
        "                      batch_size=5600,\n",
        "                      epochs= Epochs,\n",
        "                   validation_data=(X_test_electricity, Y_test_electricity),\n",
        "                   callbacks=[tfdocs.modeling.EpochDots()]\n",
        "                   )"
      ],
      "execution_count": null,
      "outputs": []
    },
    {
      "cell_type": "markdown",
      "metadata": {
        "id": "ULIOj4Twh8tx",
        "colab_type": "text"
      },
      "source": [
        "# **Plot some results**\n",
        "Firstly, we should get some stats from the history of the training."
      ]
    },
    {
      "cell_type": "code",
      "metadata": {
        "id": "ReZ3HiCEh7qt",
        "colab_type": "code",
        "colab": {}
      },
      "source": [
        "hist = pd.DataFrame(history.history)\n",
        "hist['epoch'] = history.epoch\n",
        "hist.tail()"
      ],
      "execution_count": null,
      "outputs": []
    },
    {
      "cell_type": "markdown",
      "metadata": {
        "id": "lZ8fKgCmix4Y",
        "colab_type": "text"
      },
      "source": [
        "Then we plot accuracy vs epochs"
      ]
    },
    {
      "cell_type": "code",
      "metadata": {
        "id": "GAKi2XfJi2OB",
        "colab_type": "code",
        "colab": {}
      },
      "source": [
        "plt.title(\"Training and Validation errors\")\n",
        "plt.plot(hist['epoch'], hist['root_mean_squared_error'], color = \"blue\", label=\"train\")\n",
        "plt.plot(hist['epoch'], hist['val_root_mean_squared_error'], color = \"red\", label=\"test\")\n",
        "plt.xlabel(\"epoch\")\n",
        "plt.ylabel(\"accuracy\")\n",
        "plt.legend()"
      ],
      "execution_count": null,
      "outputs": []
    },
    {
      "cell_type": "markdown",
      "metadata": {
        "id": "ykWNzN6YH6tH",
        "colab_type": "text"
      },
      "source": [
        "# **To distribute the calculation between multiple GPUs**"
      ]
    },
    {
      "cell_type": "code",
      "metadata": {
        "id": "bN7vOAP7H7az",
        "colab_type": "code",
        "colab": {}
      },
      "source": [
        "strategy = tf.distribute.MirroredStrategy()\n",
        "with strategy.scope():\n",
        "  model = S_model\n",
        "  model.compile(optimizer=\"rmsprop\",loss =\"mse\", metrics=['MeanSquaredError'])\n",
        "  model.fit(X_train_electricity, Y_train_electricity,\n",
        "                   validation_data=(X_test_electricity, Y_test_electricity))"
      ],
      "execution_count": null,
      "outputs": []
    },
    {
      "cell_type": "code",
      "metadata": {
        "id": "z6PwhTMqnhk6",
        "colab_type": "code",
        "colab": {}
      },
      "source": [
        ""
      ],
      "execution_count": null,
      "outputs": []
    }
  ]
}